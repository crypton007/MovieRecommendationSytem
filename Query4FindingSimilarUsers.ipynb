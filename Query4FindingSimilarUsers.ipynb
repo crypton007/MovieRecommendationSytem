{
  "nbformat": 4,
  "nbformat_minor": 0,
  "metadata": {
    "colab": {
      "provenance": []
    },
    "kernelspec": {
      "name": "python3",
      "display_name": "Python 3"
    },
    "language_info": {
      "name": "python"
    },
    "accelerator": "GPU",
    "gpuClass": "standard"
  },
  "cells": [
    {
      "cell_type": "code",
      "execution_count": 1,
      "metadata": {
        "id": "5I8SLHm7xkhg",
        "colab": {
          "base_uri": "https://localhost:8080/"
        },
        "outputId": "f36f6fe3-6cd7-439f-ba9a-5db01de0fd64"
      },
      "outputs": [
        {
          "output_type": "stream",
          "name": "stdout",
          "text": [
            "Looking in indexes: https://pypi.org/simple, https://us-python.pkg.dev/colab-wheels/public/simple/\n",
            "Collecting dask_ml\n",
            "  Downloading dask_ml-2022.5.27-py3-none-any.whl (148 kB)\n",
            "\u001b[2K     \u001b[90m━━━━━━━━━━━━━━━━━━━━━━━━━━━━━━━━━━━━━━━\u001b[0m \u001b[32m148.5/148.5 KB\u001b[0m \u001b[31m1.4 MB/s\u001b[0m eta \u001b[36m0:00:00\u001b[0m\n",
            "\u001b[?25hRequirement already satisfied: dask[array,dataframe]>=2.4.0 in /usr/local/lib/python3.8/dist-packages (from dask_ml) (2022.2.1)\n",
            "Requirement already satisfied: pandas>=0.24.2 in /usr/local/lib/python3.8/dist-packages (from dask_ml) (1.3.5)\n",
            "Requirement already satisfied: scikit-learn>=1.0.0 in /usr/local/lib/python3.8/dist-packages (from dask_ml) (1.0.2)\n",
            "Requirement already satisfied: numpy>=1.20.0 in /usr/local/lib/python3.8/dist-packages (from dask_ml) (1.21.6)\n",
            "Requirement already satisfied: numba>=0.51.0 in /usr/local/lib/python3.8/dist-packages (from dask_ml) (0.56.4)\n",
            "Requirement already satisfied: distributed>=2.4.0 in /usr/local/lib/python3.8/dist-packages (from dask_ml) (2022.2.1)\n",
            "Requirement already satisfied: packaging in /usr/local/lib/python3.8/dist-packages (from dask_ml) (23.0)\n",
            "Requirement already satisfied: multipledispatch>=0.4.9 in /usr/local/lib/python3.8/dist-packages (from dask_ml) (0.6.0)\n",
            "Requirement already satisfied: scipy in /usr/local/lib/python3.8/dist-packages (from dask_ml) (1.7.3)\n",
            "Collecting dask-glm>=0.2.0\n",
            "  Downloading dask_glm-0.2.0-py2.py3-none-any.whl (12 kB)\n",
            "Requirement already satisfied: cloudpickle>=0.2.2 in /usr/local/lib/python3.8/dist-packages (from dask-glm>=0.2.0->dask_ml) (2.2.1)\n",
            "Requirement already satisfied: fsspec>=0.6.0 in /usr/local/lib/python3.8/dist-packages (from dask[array,dataframe]>=2.4.0->dask_ml) (2023.1.0)\n",
            "Requirement already satisfied: pyyaml>=5.3.1 in /usr/local/lib/python3.8/dist-packages (from dask[array,dataframe]>=2.4.0->dask_ml) (6.0)\n",
            "Requirement already satisfied: partd>=0.3.10 in /usr/local/lib/python3.8/dist-packages (from dask[array,dataframe]>=2.4.0->dask_ml) (1.3.0)\n",
            "Requirement already satisfied: toolz>=0.8.2 in /usr/local/lib/python3.8/dist-packages (from dask[array,dataframe]>=2.4.0->dask_ml) (0.12.0)\n",
            "Requirement already satisfied: psutil>=5.0 in /usr/local/lib/python3.8/dist-packages (from distributed>=2.4.0->dask_ml) (5.4.8)\n",
            "Requirement already satisfied: msgpack>=0.6.0 in /usr/local/lib/python3.8/dist-packages (from distributed>=2.4.0->dask_ml) (1.0.4)\n",
            "Requirement already satisfied: click>=6.6 in /usr/local/lib/python3.8/dist-packages (from distributed>=2.4.0->dask_ml) (7.1.2)\n",
            "Requirement already satisfied: tblib>=1.6.0 in /usr/local/lib/python3.8/dist-packages (from distributed>=2.4.0->dask_ml) (1.7.0)\n",
            "Requirement already satisfied: zict>=0.1.3 in /usr/local/lib/python3.8/dist-packages (from distributed>=2.4.0->dask_ml) (2.2.0)\n",
            "Requirement already satisfied: jinja2 in /usr/local/lib/python3.8/dist-packages (from distributed>=2.4.0->dask_ml) (2.11.3)\n",
            "Requirement already satisfied: sortedcontainers!=2.0.0,!=2.0.1 in /usr/local/lib/python3.8/dist-packages (from distributed>=2.4.0->dask_ml) (2.4.0)\n",
            "Requirement already satisfied: tornado>=6.0.3 in /usr/local/lib/python3.8/dist-packages (from distributed>=2.4.0->dask_ml) (6.2)\n",
            "Requirement already satisfied: setuptools in /usr/local/lib/python3.8/dist-packages (from distributed>=2.4.0->dask_ml) (57.4.0)\n",
            "Requirement already satisfied: six in /usr/local/lib/python3.8/dist-packages (from multipledispatch>=0.4.9->dask_ml) (1.15.0)\n",
            "Requirement already satisfied: importlib-metadata in /usr/local/lib/python3.8/dist-packages (from numba>=0.51.0->dask_ml) (6.0.0)\n",
            "Requirement already satisfied: llvmlite<0.40,>=0.39.0dev0 in /usr/local/lib/python3.8/dist-packages (from numba>=0.51.0->dask_ml) (0.39.1)\n",
            "Requirement already satisfied: pytz>=2017.3 in /usr/local/lib/python3.8/dist-packages (from pandas>=0.24.2->dask_ml) (2022.7.1)\n",
            "Requirement already satisfied: python-dateutil>=2.7.3 in /usr/local/lib/python3.8/dist-packages (from pandas>=0.24.2->dask_ml) (2.8.2)\n",
            "Requirement already satisfied: joblib>=0.11 in /usr/local/lib/python3.8/dist-packages (from scikit-learn>=1.0.0->dask_ml) (1.2.0)\n",
            "Requirement already satisfied: threadpoolctl>=2.0.0 in /usr/local/lib/python3.8/dist-packages (from scikit-learn>=1.0.0->dask_ml) (3.1.0)\n",
            "Requirement already satisfied: locket in /usr/local/lib/python3.8/dist-packages (from partd>=0.3.10->dask[array,dataframe]>=2.4.0->dask_ml) (1.0.0)\n",
            "Requirement already satisfied: heapdict in /usr/local/lib/python3.8/dist-packages (from zict>=0.1.3->distributed>=2.4.0->dask_ml) (1.0.1)\n",
            "Requirement already satisfied: zipp>=0.5 in /usr/local/lib/python3.8/dist-packages (from importlib-metadata->numba>=0.51.0->dask_ml) (3.13.0)\n",
            "Requirement already satisfied: MarkupSafe>=0.23 in /usr/local/lib/python3.8/dist-packages (from jinja2->distributed>=2.4.0->dask_ml) (2.0.1)\n",
            "Installing collected packages: dask-glm, dask_ml\n",
            "Successfully installed dask-glm-0.2.0 dask_ml-2022.5.27\n"
          ]
        }
      ],
      "source": [
        "%pip install dask_ml\n"
      ]
    },
    {
      "cell_type": "code",
      "source": [
        "\n",
        "import dask.dataframe as dd\n",
        "import numpy as np\n",
        "from sklearn.decomposition import PCA\n",
        "from sklearn.cluster import KMeans\n",
        "from sklearn.metrics.pairwise import cosine_similarity\n",
        "from dask_ml.decomposition import IncrementalPCA\n",
        "import dask.array as da\n",
        "import pandas as pd\n",
        "from urllib.request import urlretrieve\n",
        "import zipfile\n",
        "import matplotlib.pyplot as plt"
      ],
      "metadata": {
        "id": "kcACENSK0oAR"
      },
      "execution_count": 16,
      "outputs": []
    },
    {
      "cell_type": "code",
      "source": [
        "urlretrieve(\"http://files.grouplens.org/datasets/movielens/ml-25m.zip\", \"movielens.zip\")\n",
        "zip_ref = zipfile.ZipFile('movielens.zip', \"r\")\n",
        "zip_ref.extractall()\n"
      ],
      "metadata": {
        "colab": {
          "base_uri": "https://localhost:8080/"
        },
        "id": "HTtqX_Kmx3Vi",
        "outputId": "21f49c7f-b16f-4451-b413-7a2f50003967"
      },
      "execution_count": 3,
      "outputs": [
        {
          "output_type": "stream",
          "name": "stdout",
          "text": [
            "Downloading movielens data...\n",
            "Done.\n"
          ]
        }
      ]
    },
    {
      "cell_type": "markdown",
      "source": [
        "Using Dask to retrieve data from ratings.csv file . Storing the result in dask dataframe"
      ],
      "metadata": {
        "id": "SVHKm4P82FRj"
      }
    },
    {
      "cell_type": "code",
      "source": [
        "ratings_dd = dd.read_csv('ml-25m/ratings.csv')"
      ],
      "metadata": {
        "colab": {
          "base_uri": "https://localhost:8080/"
        },
        "id": "ADvgAQGincm9",
        "outputId": "f24d4fee-20cb-4d6f-e743-b404ab5dfc08"
      },
      "execution_count": 5,
      "outputs": [
        {
          "output_type": "stream",
          "name": "stdout",
          "text": [
            "Time taken (Dask): 0.015988588333129883 seconds\n"
          ]
        }
      ]
    },
    {
      "cell_type": "code",
      "source": [
        "ratings_df=ratings_dd.compute()\n",
        "ratings_df=ratings_df.head(500000)"
      ],
      "metadata": {
        "id": "oJhfJUGI3nXd"
      },
      "execution_count": 9,
      "outputs": []
    },
    {
      "cell_type": "code",
      "source": [
        "# Group by user ID and keep only users who have rated at least 10 movies\n",
        "grouped_ratings = ratings_df.groupby('userId').filter(lambda x: len(x) >= 10)\n",
        "# Pivot the table\n",
        "ratings_pivot = grouped_ratings.pivot(index='userId', columns='movieId', values='rating')"
      ],
      "metadata": {
        "id": "c4hoYXiz5GA6"
      },
      "execution_count": 10,
      "outputs": []
    },
    {
      "cell_type": "code",
      "source": [
        "# Normalize the ratings by subtracting the mean rating for each user\n",
        "user_means = ratings_pivot.mean(axis=1)\n",
        "ratings_pivot = ratings_pivot.sub(user_means, axis=0)\n",
        "ratings_pivot=ratings_pivot.fillna(0)\n"
      ],
      "metadata": {
        "id": "BB7FZ7MA4PoV"
      },
      "execution_count": 11,
      "outputs": []
    },
    {
      "cell_type": "code",
      "source": [
        "pca = PCA(n_components=2)\n",
        "ratings_pca = pca.fit_transform(ratings_pivot)"
      ],
      "metadata": {
        "id": "OGH28NHgx6Gh"
      },
      "execution_count": 13,
      "outputs": []
    },
    {
      "cell_type": "code",
      "source": [
        "k_values = range(2, 40)\n",
        "sse_values = []\n",
        "for k in k_values:\n",
        "    kmeans = KMeans(n_clusters=k, random_state=0).fit(ratings_pca)\n",
        "    sse = kmeans.inertia_\n",
        "    sse_values.append(sse)\n",
        "\n",
        "# Plot the sum of squared distances for each value of k\n",
        "plt.plot(k_values, sse_values, marker='o')\n",
        "plt.xlabel('Number of clusters (k)')\n",
        "plt.ylabel('Sum of squared distances')\n",
        "plt.title('Elbow Method for Optimal k')\n",
        "plt.show()"
      ],
      "metadata": {
        "colab": {
          "base_uri": "https://localhost:8080/",
          "height": 295
        },
        "id": "jrtDaw8rZ7FP",
        "outputId": "e498462a-a194-43e3-883f-43ec0acf6430"
      },
      "execution_count": 20,
      "outputs": [
        {
          "output_type": "display_data",
          "data": {
            "text/plain": [
              "<Figure size 432x288 with 1 Axes>"
            ],
            "image/png": "[encoded data removed]"
          },
          "metadata": {
            "needs_background": "light"
          }
        }
      ]
    },
    {
      "cell_type": "code",
      "source": [
        "# Calculate pairwise cosine similarities between users\n",
        "cosine_similarities = cosine_similarity(ratings_pca)\n",
        "k=15\n",
        "kmeans = KMeans(n_clusters=k, random_state=0).fit(cosine_similarities)\n",
        "\n",
        "user_clusters = kmeans.labels_"
      ],
      "metadata": {
        "id": "6Y5L3nLOBLvo"
      },
      "execution_count": 15,
      "outputs": []
    },
    {
      "cell_type": "markdown",
      "source": [
        "Computing the cosine similarity between the users in each cluster by taking the dot product of the cluster centroids (representing the average ratings of the users in the cluster) and normalizing by the product of their magnitudes"
      ],
      "metadata": {
        "id": "x4Ql06MU9K4f"
      }
    },
    {
      "cell_type": "code",
      "source": [
        "# Define a list of colors to use for each cluster\n",
        "colors = ['r', 'g', 'b', 'c', 'm', 'y', 'k', \n",
        "          'orange', 'purple', 'pink', 'brown', 'grey', \n",
        "          'lavender', 'beige', 'turquoise']\n",
        "\n",
        "# Create a scatter plot of all the data points in the similarity matrix\n",
        "plt.figure(figsize=(8, 8))\n",
        "\n",
        "# Loop through each cluster\n",
        "for i in range(k):\n",
        "    # Get the indices of the users in the current cluster\n",
        "    indices = np.where(user_clusters == i)[0]\n",
        "    \n",
        "    # Get the values of the similarity matrix for the current users\n",
        "    x = ratings_pca[indices, :]\n",
        "    \n",
        "    # Plot the points for the current cluster with the corresponding color\n",
        "    plt.scatter(x[:, 0], x[:, 1], c=colors[i], label=f\"Cluster {i+1}\")\n",
        "\n",
        "# Add labels to the plot\n",
        "plt.xlabel(\"Similarity to All Users\")\n",
        "plt.ylabel(\"Similarity to All Users\")\n",
        "plt.legend()\n",
        "plt.show()\n"
      ],
      "metadata": {
        "colab": {
          "base_uri": "https://localhost:8080/",
          "height": 500
        },
        "id": "CKe3KXWfEnAa",
        "outputId": "7673ee94-3179-464c-d929-61102e90b08f"
      },
      "execution_count": 17,
      "outputs": [
        {
          "output_type": "display_data",
          "data": {
            "text/plain": [
              "<Figure size 576x576 with 1 Axes>"
            ],
            "image/png": "[encoded data removed]"
          },
          "metadata": {
            "needs_background": "light"
          }
        }
      ]
    },
    {
      "cell_type": "code",
      "source": [
        "# Get the cluster labels for each user\n",
        "\n",
        "# Print the number of users in each cluster\n",
        "for i in range(k):\n",
        "    print(f\"Cluster {i+1}: {np.sum(user_clusters == i)} users\")"
      ],
      "metadata": {
        "colab": {
          "base_uri": "https://localhost:8080/"
        },
        "id": "F5WdmCIj8z8i",
        "outputId": "dc5b2ef0-22ba-460e-dda3-f756046b1c86"
      },
      "execution_count": 18,
      "outputs": [
        {
          "output_type": "stream",
          "name": "stdout",
          "text": [
            "Cluster 1: 568 users\n",
            "Cluster 2: 183 users\n",
            "Cluster 3: 96 users\n",
            "Cluster 4: 143 users\n",
            "Cluster 5: 112 users\n",
            "Cluster 6: 344 users\n",
            "Cluster 7: 115 users\n",
            "Cluster 8: 198 users\n",
            "Cluster 9: 100 users\n",
            "Cluster 10: 753 users\n",
            "Cluster 11: 171 users\n",
            "Cluster 12: 119 users\n",
            "Cluster 13: 274 users\n",
            "Cluster 14: 130 users\n",
            "Cluster 15: 139 users\n"
          ]
        }
      ]
    },
    {
      "cell_type": "code",
      "source": [
        "# Find the users that are most similar to a given user\n",
        "\n",
        "target_user_id = 3  # Example target user ID\n",
        "target_user_id=int(target_user_id)\n",
        "target_user_cluster = user_clusters[target_user_id]\n",
        "\n",
        "cluster_users = np.where(user_clusters == target_user_cluster)[0]\n",
        "similar_users = []\n",
        "\n",
        "for user_id in cluster_users:\n",
        "    if user_id != target_user_id:\n",
        "        similarity = cosine_similarities[target_user_id][user_id]\n",
        "        similar_users.append((user_id, similarity))\n",
        "\n",
        "# Sort the similar users by decreasing similarity\n",
        "similar_users = sorted(similar_users, key=lambda x: x[1], reverse=True)\n",
        "\n",
        "# Print the top 10 similar users\n",
        "for user in similar_users[:10]:\n",
        "    print('User ID:', user[0])"
      ],
      "metadata": {
        "colab": {
          "base_uri": "https://localhost:8080/"
        },
        "id": "c9DRRVO4Cb_h",
        "outputId": "0eae7e30-a476-4be7-afb5-e5a363fd880f"
      },
      "execution_count": 19,
      "outputs": [
        {
          "output_type": "stream",
          "name": "stdout",
          "text": [
            "Enter UserId2\n",
            "User ID: 2376\n",
            "User ID: 676\n",
            "User ID: 2239\n",
            "User ID: 1480\n",
            "User ID: 2316\n",
            "User ID: 1865\n",
            "User ID: 1120\n",
            "User ID: 1997\n",
            "User ID: 2782\n",
            "User ID: 2724\n"
          ]
        }
      ]
    },
    {
      "cell_type": "code",
      "source": [
        "import pandas as pd\n",
        "import numpy as np\n",
        "\n",
        "# Create an empty DataFrame to store the results\n",
        "results_df = pd.DataFrame(columns=['userId','similaruserid_1','similaruserid_2','similaruserid_3','similaruserid_4','similaruserid_5','similaruserid_6','similaruserid_7','similaruserid_8','similaruserid_9','similaruserid_10'])\n",
        "\n",
        "# Loop through all user IDs\n",
        "for user_id in range(1, 2001):\n",
        "    target_user_cluster = user_clusters[user_id]\n",
        "    cluster_users = np.where(user_clusters == target_user_cluster)[0]\n",
        "    similar_users = []\n",
        "    for other_user_id in cluster_users:\n",
        "        if other_user_id != user_id:\n",
        "            similarity = cosine_similarities[user_id][other_user_id]\n",
        "            similar_users.append((other_user_id, similarity))\n",
        "    # Sort the similar users by decreasing similarity and get the top 10\n",
        "    similar_users = sorted(similar_users, key=lambda x: x[1], reverse=True)[:10]\n",
        "    # Add the results to the DataFrame\n",
        "    result = [user_id] + [tup[0] for tup in similar_users]\n",
        "    results_df.loc[len(results_df)] = result\n",
        "\n",
        "# Save the results to a CSV file\n",
        "results_df.to_csv('similar_users.csv', index=False)\n"
      ],
      "metadata": {
        "id": "1K40CVhTZsZA"
      },
      "execution_count": null,
      "outputs": []
    }
  ]
}